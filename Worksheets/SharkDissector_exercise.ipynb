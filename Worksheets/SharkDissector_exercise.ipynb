{
 "cells": [
  {
   "cell_type": "markdown",
   "metadata": {
    "collapsed": false
   },
   "source": [
    "##This package assumes you have tshark installed\n",
    "###To learn more about tshark please visit: https://www.wireshark.org/docs/man-pages/tshark.html\n",
    "\n",
    "\n",
    "Shark Dissector -- 2015 Blackhat Data Science Course\n",
    "\n",
    "Shark Dissector runs through PCAP streams and writes each individual stream to hard drive.\n",
    "User can specify fields they're looking for within the stream. This example searches for any stream\n",
    "which has the word \"password\" in the content. The content is then displayed to the screen for the analyst\n",
    "to investigate.\n",
    "\n",
    "This is quicker then searching through each pcap individually and allows analyst/incident \n",
    "responders to work with large sets of data.\n",
    "\n",
    "Use the file named idslog0.pcap located in the data folder to answer the following questions:\n",
    "\n",
    "1) Identify which stream contains the password chamomileporkorange\n",
    "\n",
    "2) Find all streams which contain the hash b94b3aac033a736438761e893883391f66c9d2d1\n",
    "\n",
    "3) Find all streams which have a password in it. Look for pass or PASS to identify the stream with a password"
   ]
  },
  {
   "cell_type": "code",
   "execution_count": 1,
   "metadata": {
    "collapsed": false
   },
   "outputs": [],
   "source": [
    "#Choose File\n",
    "def fileChooser():\n",
    "    global filename\n",
    "    global filepath\n",
    "    global pcap\n",
    "    \n",
    "    from tkinter import Tk, filedialog\n",
    "    root = Tk()\n",
    "    root.filename =  filedialog.askopenfilename(initialdir = \"C:/\",title = \"Choose PCAP to Disect\",\n",
    "                                                )\n",
    "    filename = root.filename.split('/')[-1]\n",
    "    filepath = '/'.join(root.filename.split('/')[:-1])+'/'\n",
    "    pcap = filepath+filename\n",
    "    root.destroy()\n",
    "\n",
    "fileChooser()\n",
    "\n",
    "#get current time for timestamp\n",
    "import datetime\n",
    "current_time = '_'.join(datetime.datetime.ctime(datetime.datetime.now()).replace(':','.').split(' '))\n",
    "\n",
    "#create directory\n",
    "import os\n",
    "subdirectory = filepath+filename+'_'+current_time\n",
    "os.mkdir(filepath+filename+'_'+current_time)\n"
   ]
  },
  {
   "cell_type": "code",
   "execution_count": 4,
   "metadata": {
    "collapsed": false
   },
   "outputs": [
    {
     "name": "stdout",
     "output_type": "stream",
     "text": [
      "2900 streams identified!\n"
     ]
    }
   ],
   "source": [
    "import subprocess\n",
    "\n",
    "#linux\n",
    "#collect_streams = subprocess.Popen([\"/usr/local/bin/tshark\", \"-r\", pcap, \"-T\", \"fields\", \"-e\", \"tcp.stream\"], stdout=subprocess.PIPE)\n",
    "\n",
    "#windows\n",
    "collect_streams = subprocess.Popen([\"c:/Program Files/Wireshark/tshark\", \"-r\", pcap, \"-T\", \"fields\", \"-e\", \"tcp.stream\"], stdout=subprocess.PIPE)\n",
    "\n",
    "streams = collect_streams.stdout.read().splitlines()\n",
    "unique_streams = sorted(set([str(s, 'UTF8') for s in streams if len(s) > 0]))\n",
    "print(str(len(unique_streams)), 'streams identified!')"
   ]
  },
  {
   "cell_type": "code",
   "execution_count": 1,
   "metadata": {
    "collapsed": false
   },
   "outputs": [
    {
     "ename": "NameError",
     "evalue": "name 'unique_streams' is not defined",
     "output_type": "error",
     "traceback": [
      "\u001b[1;31m---------------------------------------------------------------------------\u001b[0m",
      "\u001b[1;31mNameError\u001b[0m                                 Traceback (most recent call last)",
      "\u001b[1;32m<ipython-input-1-8bdfab875594>\u001b[0m in \u001b[0;36m<module>\u001b[1;34m()\u001b[0m\n\u001b[0;32m      1\u001b[0m \u001b[1;32mimport\u001b[0m \u001b[0mre\u001b[0m\u001b[1;33m\u001b[0m\u001b[0m\n\u001b[0;32m      2\u001b[0m \u001b[0mpass_streams\u001b[0m \u001b[1;33m=\u001b[0m \u001b[1;33m[\u001b[0m\u001b[1;33m]\u001b[0m\u001b[1;33m\u001b[0m\u001b[0m\n\u001b[1;32m----> 3\u001b[1;33m \u001b[1;32mfor\u001b[0m \u001b[0mstream\u001b[0m \u001b[1;32min\u001b[0m \u001b[0munique_streams\u001b[0m\u001b[1;33m:\u001b[0m\u001b[1;33m\u001b[0m\u001b[0m\n\u001b[0m\u001b[0;32m      4\u001b[0m     \u001b[1;31m#print('Parsing stream #%s' % stream)\u001b[0m\u001b[1;33m\u001b[0m\u001b[1;33m\u001b[0m\u001b[0m\n\u001b[0;32m      5\u001b[0m     \u001b[0mstream_follower\u001b[0m \u001b[1;33m=\u001b[0m \u001b[0msubprocess\u001b[0m\u001b[1;33m.\u001b[0m\u001b[0mPopen\u001b[0m\u001b[1;33m(\u001b[0m\u001b[1;33m[\u001b[0m\u001b[1;34m\"tshark\"\u001b[0m\u001b[1;33m,\u001b[0m \u001b[1;34m\"-r\"\u001b[0m\u001b[1;33m,\u001b[0m \u001b[0mpcap\u001b[0m\u001b[1;33m,\u001b[0m \u001b[1;34m\"-qz\"\u001b[0m\u001b[1;33m,\u001b[0m \u001b[1;34m\"follow,tcp,ascii,\"\u001b[0m\u001b[1;33m+\u001b[0m\u001b[0mstream\u001b[0m\u001b[1;33m]\u001b[0m\u001b[1;33m,\u001b[0m \u001b[0mstdout\u001b[0m\u001b[1;33m=\u001b[0m\u001b[0msubprocess\u001b[0m\u001b[1;33m.\u001b[0m\u001b[0mPIPE\u001b[0m\u001b[1;33m)\u001b[0m \u001b[1;31m#> follow-stream-$i.txt\u001b[0m\u001b[1;33m\u001b[0m\u001b[0m\n",
      "\u001b[1;31mNameError\u001b[0m: name 'unique_streams' is not defined"
     ]
    }
   ],
   "source": [
    "import re\n",
    "pass_streams = []\n",
    "for stream in unique_streams:\n",
    "    #print('Parsing stream #%s' % stream)\n",
    "    stream_follower = subprocess.Popen([\"tshark\", \"-r\", pcap, \"-qz\", \"follow,tcp,ascii,\"+stream], stdout=subprocess.PIPE) #> follow-stream-$i.txt\n",
    "    #stream_follower = subprocess.Popen([\"c:/Program Files/Wireshark/tshark\", \"-r\", pcap, \"-qz\", \"follow,tcp,ascii,\"+stream], stdout=subprocess.PIPE) #> follow-stream-$i.txt\n",
    "    content = stream_follower.stdout.read()\n",
    "    #Modify regular expression string to find items of interest\n",
    "    #HASH = re.findall(r'(b94b3aac033a736438761e893883391f66c9d2d1)', str(content))\n",
    "    PASSWORD = re.findall(r'(GET|get)', str(content))\n",
    "    if PASSWORD:\n",
    "        print('[!] Investigating stream #%s' % stream)\n",
    "        data = content.splitlines()\n",
    "        for row in data:\n",
    "            try:\n",
    "                print(str(row, 'UTF-8'))\n",
    "            except Exception as e:\n",
    "                print(e)\n",
    "        pass_streams.append(stream)\n",
    "    write_file = open(subdirectory+'/'+filename+'_'+stream, 'wb')\n",
    "    write_file.write(content)\n",
    "print('Streams to investigate: %s' % ', '.join(pass_streams))"
   ]
  },
  {
   "cell_type": "code",
   "execution_count": null,
   "metadata": {
    "collapsed": false
   },
   "outputs": [],
   "source": [
    "print(str(len(unique_streams)), 'streams written to %s' % filepath)"
   ]
  },
  {
   "cell_type": "code",
   "execution_count": null,
   "metadata": {
    "collapsed": false
   },
   "outputs": [],
   "source": []
  },
  {
   "cell_type": "code",
   "execution_count": null,
   "metadata": {
    "collapsed": true
   },
   "outputs": [],
   "source": []
  }
 ],
 "metadata": {
  "kernelspec": {
   "display_name": "Python 3",
   "language": "python",
   "name": "python3"
  },
  "language_info": {
   "codemirror_mode": {
    "name": "ipython",
    "version": 3
   },
   "file_extension": ".py",
   "mimetype": "text/x-python",
   "name": "python",
   "nbconvert_exporter": "python",
   "pygments_lexer": "ipython3",
   "version": "3.4.3"
  }
 },
 "nbformat": 4,
 "nbformat_minor": 0
}
